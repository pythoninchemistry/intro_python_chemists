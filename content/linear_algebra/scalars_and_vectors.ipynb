{
 "cells": [
  {
   "cell_type": "markdown",
   "metadata": {},
   "source": [
    "**Prerequisites:**\n",
    "- Collections\n",
    "- NumPy arrays"
   ]
  },
  {
   "cell_type": "markdown",
   "metadata": {},
   "source": [
    "### Scalars and vectors"
   ]
  },
  {
   "cell_type": "markdown",
   "metadata": {},
   "source": [
    "Scalar values are values that consist of just a magnitude. These are properties such as the distance travelled by an atom, the mass of a compound, or the speed of a particle in a mass spectrometer. \n",
    "\n",
    "A vector is a property that consists of both a magnitude and a direction. This may be the displacement of an atom, the weight of a compound, or the velocity of a particle. \n",
    "\n",
    "This differentiation is better described with an example: a person drives to the shop from their house. The person's house is at point A, the shop is at point B, and the road connecting points A to B is circular and defined by ACBD.\n",
    "\n",
    "<img src=\"../images/circle_road.pdf\" alt=\"drawing\" width=\"200\"/>\n",
    "\n",
    "The distance travelled by the person is simple to calculate. They must either got from A to C to B or, alternatively, A to D to B. Travelling a semi-circle of radius ten on each of the paths to the shop. Using the equation for an arc,\n",
    "\n",
    "$$ d = r \\theta ,$$ \n",
    "\n",
    "where d is the arc length, $\\theta$ is the angle traversed along the circle, and r is the radius of the circle, we deduce they travel 10 $\\pi$. \n",
    "\n",
    "But the displacement of the person when arriving at the shop can be determined by thinking of this circle sitting on a coordinate system, as if we are plotting a graph. We conveniently set the origin to be point A, and therefore point A has coordinates (0,0). Point B has coordinates (20,0). This consequently makes the coordinates of point C (10,10) and the coordinates of point D (10,-10) as the radius of the circle is 10. \n",
    "\n",
    "<img src=\"../images/road_config.pdf\" alt=\"drawing\" width=\"400\"/>\n",
    "\n",
    "The grid lines on the graph above are seperated for each value of one in both the x and y directions. It is common practice in linear algebra to define a movement of one in the x direction by **i**, which defines a vector (1,0), and a movement of one in the y direction by __j__, which defines a vector (0,1). As described in the figure below.\n",
    "\n",
    "<img src=\"../images/ij.pdf\" alt=\"drawing\" width=\"400\"/>\n",
    "\n",
    "Note that the vectors **i** and __j__ are represented by arrows from the origin to the relevant point. This is a common, and accepted, method of visualising and representing vectors. We can write the coordinates defined earlier as (x,y), as vectors such that:\n",
    "\n",
    "$$ \\text{A}: \\quad \\mathbf{a}= 0 \\; \\mathbf{i} + 0 \\; \\mathbf{j} $$\n",
    "$$ \\text{B}: \\quad \\mathbf{b}= 20 \\; \\mathbf{i} + 0 \\; \\mathbf{j} $$\n",
    "$$ \\text{C}: \\quad \\mathbf{c}= 10 \\; \\mathbf{i} + 10 \\; \\mathbf{j} $$\n",
    "$$ \\text{D}: \\quad\\mathbf{d}= 10 \\; \\mathbf{i}  -10 \\; \\mathbf{j} $$\n",
    "\n",
    "Here we have defined the vector to go from the origin to point B, as $\\mathbf{b}$. This is because it is conventional to label vectors as lowercase and in bold font. Therefore, the displacement to go from home, at A, to the shop, at B, is defined by:\n",
    "\n",
    "$$ \\mathbf{b} - \\mathbf{a} = 20 \\; \\mathbf{i} + 0 \\; \\mathbf{j} $$\n",
    "\n",
    "Which you may recognise as merely being the vector $\\mathbf{b}$. This is due to the fact that the position A is the origin. \n",
    "\n",
    "We can represent the vectors above as NumPy arrays such that:"
   ]
  },
  {
   "cell_type": "code",
   "execution_count": 1,
   "metadata": {
    "ExecuteTime": {
     "end_time": "2020-06-15T17:16:47.318092Z",
     "start_time": "2020-06-15T17:16:46.468067Z"
    }
   },
   "outputs": [],
   "source": [
    "import numpy as np\n",
    "\n",
    "a = np.array([0,0])\n",
    "\n",
    "b = np.array([20,0])\n",
    "\n",
    "c = np.array([10,10])\n",
    "\n",
    "d = np.array([10,-10])"
   ]
  },
  {
   "cell_type": "markdown",
   "metadata": {},
   "source": [
    "Now imagine the another person travelling to the shop. This individual's house is located at C. The distance this individual has to travel is again calculated using the equation for an arc expressed before\n",
    "\n",
    "$$ d = r \\theta = 10 \\frac{\\pi}{2}  = 5\\pi$$ \n",
    "\n",
    "and the displacement of this individual to go from their house is given by $\\mathbf{b} - \\mathbf{c}$.  This can now be calculated using python with the following code:"
   ]
  },
  {
   "cell_type": "code",
   "execution_count": 2,
   "metadata": {
    "ExecuteTime": {
     "end_time": "2020-06-15T17:17:08.414201Z",
     "start_time": "2020-06-15T17:17:08.407777Z"
    }
   },
   "outputs": [
    {
     "name": "stdout",
     "output_type": "stream",
     "text": [
      "The displacement of this individual to go to the shop is [ 10 -10]\n"
     ]
    }
   ],
   "source": [
    "displacement = b - c \n",
    "\n",
    "print(\"The displacement of this individual to go to the shop is\", displacement)"
   ]
  },
  {
   "cell_type": "markdown",
   "metadata": {},
   "source": [
    "Recall that the array [10 -10] is equivalent to \n",
    "\n",
    "$$ 10 \\; \\mathbf{i} - 10 \\; \\mathbf{j}$$\n",
    "\n",
    "**Exercise:** Using the NumPy arrays defined above, calculate the displacement of an individual travelling from point D to the shop, and the displacement between the points C and D. In addition, calculate the distances traversed when travelling between these points on the circular path. "
   ]
  },
  {
   "cell_type": "code",
   "execution_count": 3,
   "metadata": {
    "ExecuteTime": {
     "end_time": "2020-06-15T17:17:25.392397Z",
     "start_time": "2020-06-15T17:17:25.389370Z"
    }
   },
   "outputs": [],
   "source": [
    "### Write your code here"
   ]
  },
  {
   "cell_type": "markdown",
   "metadata": {},
   "source": [
    "In the above example, we described movement on a two-dimensional plane. Often, problems in chemistry are three-dimensional. Similarly to earlier, in three dimensions we describe the coordinates (x,y,z) as \n",
    "\n",
    "$$ x \\; \\mathbf{i} + y \\; \\mathbf{j} +  z \\; \\mathbf{k} ,$$\n",
    "\n",
    "where **k** describes the vector associated with a movement of magntiude one in the z direction. Let us consider a problem similar to the one we have already discussed: travelling on the surface of a sphere. Consider a sphere of radius ten with the following associated points\n",
    "\n",
    "$$ \\text{A}: \\quad \\mathbf{a}= -10 \\; \\mathbf{i} + 0 \\; \\mathbf{j} +  0 \\; \\mathbf{k}$$\n",
    "$$ \\text{B}: \\quad \\mathbf{b}= 10 \\; \\mathbf{i} + 0 \\; \\mathbf{j} + 0 \\; \\mathbf{k}$$\n",
    "$$ \\text{C}: \\quad \\mathbf{c}= 0 \\; \\mathbf{i} + 10 \\; \\mathbf{j} + 0 \\; \\mathbf{k} $$\n",
    "$$ \\text{D}: \\quad\\mathbf{d}= 0 \\; \\mathbf{i}  -10 \\; \\mathbf{j}  + 0 \\; \\mathbf{k}$$\n",
    "$$ \\text{E}: \\quad\\mathbf{e}= 0 \\; \\mathbf{i} + 0 \\; \\mathbf{j}  + 10 \\; \\mathbf{k}$$\n",
    "$$ \\text{F}: \\quad\\mathbf{f}= 0 \\; \\mathbf{i} + 0 \\; \\mathbf{j}  - 10 \\; \\mathbf{k}$$\n",
    "\n",
    "Here the origin is at the centre of the sphere. The system defined is:\n",
    "\n",
    "<img src=\"../images/sphere.pdf\" alt=\"drawing\" width=\"600\"/>\n",
    "\n",
    "Consider traversing the sphere between the points along the shortest path. This again can be described using the equation for an arc. To traverse between adjacent points requires moving a distance of 5 $\\pi$, whilst to traverse between points that are opposite one another requires moving a distance of 10 $\\pi$ along the surface of the sphere. \n",
    "\n",
    "The displacement to go from position A to position B is:\n",
    "\n",
    "$$ \\mathbf{b} - \\mathbf{a} = 20 \\; \\mathbf{i} + 0 \\; \\mathbf{j} +  0 \\; \\mathbf{k} $$\n",
    "\n",
    "An easy way thinking about adding and subtracting vectors is the \"tip to tail\" method. As discussed earlier, vectors can be visualised as arrows from the origin to their respective points. If we take the example above where we subtract the vector $\\mathbf{a}$ from the vector $\\mathbf{b}$ we can think of this as:\n",
    "\n",
    "$$ \\mathbf{b} - \\mathbf{a} = \\mathbf{b} + \\mathbf{-a},$$\n",
    "\n",
    "where \n",
    "\n",
    "$$ \\mathbf{a}= -10 \\; \\mathbf{i} + 0 \\; \\mathbf{j} +  0 \\; \\mathbf{k},$$\n",
    "$$\\quad \\mathbf{b}= 10 \\; \\mathbf{i} + 0 \\; \\mathbf{j} + 0 \\; \\mathbf{k}.$$\n",
    "\n",
    "Therefore \n",
    "\n",
    "$$ \\mathbf{-a}= 10 \\; \\mathbf{i} + 0 \\; \\mathbf{j} +  0 \\; \\mathbf{k}.$$\n",
    "\n",
    "We can therefore represent both $\\mathbf{a}$ and $\\mathbf{b}$ as an arrow from the origin to (10,0,0). The \"tip to tail\" method is where, starting from the origin, we create a trail of vectors where the tip of an arrow is followed by the tail of another. This can be seen below: \n",
    "\n",
    "<img src=\"../images/additive_vectors.pdf\" alt=\"drawing\" width=\"600\"/>\n",
    "\n",
    "**Exercise:** Determine the displacement to when someone travels from point D to point F. "
   ]
  },
  {
   "cell_type": "code",
   "execution_count": null,
   "metadata": {},
   "outputs": [],
   "source": [
    "### Write your code here"
   ]
  }
 ],
 "metadata": {
  "kernelspec": {
   "display_name": "Python 3",
   "language": "python",
   "name": "python3"
  },
  "language_info": {
   "codemirror_mode": {
    "name": "ipython",
    "version": 3
   },
   "file_extension": ".py",
   "mimetype": "text/x-python",
   "name": "python",
   "nbconvert_exporter": "python",
   "pygments_lexer": "ipython3",
   "version": "3.7.3"
  }
 },
 "nbformat": 4,
 "nbformat_minor": 2
}
