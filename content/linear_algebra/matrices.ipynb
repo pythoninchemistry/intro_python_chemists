{
 "cells": [
  {
   "cell_type": "markdown",
   "metadata": {
    "ExecuteTime": {
     "end_time": "2020-06-15T17:24:54.579144Z",
     "start_time": "2020-06-15T17:24:54.573637Z"
    }
   },
   "source": [
    "**Prerequisites:**\n",
    "- Collections\n",
    "- NumPy arrays\n",
    "- Scalars and vectors\n",
    "- Bases"
   ]
  },
  {
   "cell_type": "markdown",
   "metadata": {
    "ExecuteTime": {
     "end_time": "2020-06-15T17:22:49.075509Z",
     "start_time": "2020-06-15T17:22:49.036290Z"
    }
   },
   "source": [
    "### Matrices\n",
    "\n",
    "So far we have discussed how a basis set of vectors can be used to specify a location of a vector subspace, but how do we describe a vector subspace in linear algebra? The answer is that we use a matrix. A matrix uses the bases set of vectors to define a vector subspace. Let's take the example used in the previous section, where the basis used was\n",
    "\n",
    "$$ \\begin{pmatrix} 2 \\\\ 0 \\\\ 0 \\end{pmatrix},  \\; \\begin{pmatrix} 0 \\\\ 1 \\\\ 0 \\end{pmatrix}, \\; \\begin{pmatrix} 0 \\\\ 0 \\\\ 1 \\end{pmatrix} $$\n",
    "\n",
    "In order to describe a vector subspace using this basis set we arrange our basis such that we create the matrix\n",
    "\n",
    "$$ \\begin{bmatrix}\n",
    "    2       & 0 & 0 \\\\\n",
    "    0       & 1 & 0 \\\\\n",
    "    0      & 0 & 1\n",
    "\\end{bmatrix}.\n",
    "$$\n",
    "\n",
    "Recall that in order to obtain the point (1,1,1) using this basis set, we used the coordinates (0.5,1,1). These coordinates define a vector using this basis set. In order to get to the point (1,1,1), we must multiple the matrix above by the vector (0.5, 1, 1). We can do this using the \"across and down\" method. The \"across and down\" method is illustrated below:\n",
    "\n",
    "<img src=\"../images/matrix_multiplication_1.pdf\" alt=\"drawing\" width=\"600\"/>\n",
    "\n",
    "First we define the matrix multiplication we wish to conduct. Then we calculate the first component of our solution by component wise multiplying the first row, with our vector and summing each multiplicative pair (highlighted in red). We then calculate our second component of our solution by the same method (highlighted in purple), and finally we calculate our third component with using the thrid row (highlighted in blue). As we expected we obtain the solution \n",
    "\n",
    "$$ \\begin{pmatrix} 1 \\\\ 1 \\\\ 1 \\end{pmatrix}. $$\n",
    "\n",
    "Let's try something a little more difficult. Imagine we are working in ths subspace defined by the basis set \n",
    "\n",
    "$$ \\begin{pmatrix} 5 \\\\ 2 \\\\ 1 \\end{pmatrix},  \\; \\begin{pmatrix} 1 \\\\ -1 \\\\ 1 \\end{pmatrix}, \\; \\begin{pmatrix} 2 \\\\ -1 \\\\ 3 \\end{pmatrix}.  $$ \n",
    "\n",
    "We want to calculate the position given by the vector (2,-1,3) in this subspace. Following the same method as above, we deduce \n",
    "\n",
    "<img src=\"../images/matrix_multiplication_2.pdf\" alt=\"drawing\" width=\"600\"/>\n",
    "\n",
    "How does this work? Let's consider the most general of cases, where our basis set is \n",
    "\n",
    "$$ \\begin{pmatrix} a_{1} \\\\ b_{1} \\\\ c_{1} \\end{pmatrix},  \\; \\begin{pmatrix} a_{2} \\\\ b_{2} \\\\ c_{2} \\end{pmatrix}, \\; \\begin{pmatrix} a_{3} \\\\ b_{3} \\\\ c_{3} \\end{pmatrix},  $$\n",
    "\n",
    "and the matrix defining our subspace is given by \n",
    "\n",
    "$$ \\begin{bmatrix}\n",
    "    a_{1}       & a_{2} & a_{3} \\\\\n",
    "    b_{1}       & b_{2} & b_{3} \\\\\n",
    "    c_{1}      & c_{2} & c_{3}\n",
    "\\end{bmatrix}.\n",
    "$$\n",
    "\n",
    "If we multiply this with the general vector \n",
    "$$ \\begin{pmatrix} x \\\\ y \\\\ z \\end{pmatrix}, $$\n",
    "what do we obtain?\n",
    "\n",
    "<img src=\"../images/bases_general.pdf\" alt=\"drawing\" width=\"600\"/>\n",
    "\n",
    "We can see from the above that using matrix multiplication is the same as using the explicit components of the vectors and the basis vectors!\n",
    "\n",
    "Now that we have a fundamental understanding of what matrices represent, we will discuss how to appropriately depict and use them using the NumPy library. Let's take the simplest 3 $\\times$ 3 matrix\n",
    "\n",
    "$$ \\begin{bmatrix}\n",
    "    1       & 0 & 0 \\\\\n",
    "    0       & 1 & 0 \\\\\n",
    "    0      & 0 & 1\n",
    "\\end{bmatrix}.\n",
    "$$\n",
    "\n",
    "We can represent this in a similar way to the way we represented a vector previously"
   ]
  },
  {
   "cell_type": "code",
   "execution_count": 3,
   "metadata": {
    "ExecuteTime": {
     "end_time": "2020-06-15T17:23:16.674325Z",
     "start_time": "2020-06-15T17:23:16.181091Z"
    }
   },
   "outputs": [
    {
     "name": "stdout",
     "output_type": "stream",
     "text": [
      "[[1 0 0]\n",
      " [0 1 0]\n",
      " [0 0 1]]\n"
     ]
    }
   ],
   "source": [
    "import numpy as np\n",
    "\n",
    "matrix = np.array([[1,0,0],\n",
    "                   [0,1,0],\n",
    "                   [0,0,1]])\n",
    "\n",
    "\n",
    "print(matrix)"
   ]
  },
  {
   "cell_type": "markdown",
   "metadata": {},
   "source": [
    "Note that there are an outer set of square brackets, and inner set of square brackets for each row of the matrix. To compute the product of a matrix and a vector, we use the np.matmul function which stands for matrix multiplication. Let's use python to calculate the second matrix multiplication example above"
   ]
  },
  {
   "cell_type": "code",
   "execution_count": 4,
   "metadata": {
    "ExecuteTime": {
     "end_time": "2020-06-15T17:23:36.111174Z",
     "start_time": "2020-06-15T17:23:36.104335Z"
    }
   },
   "outputs": [
    {
     "name": "stdout",
     "output_type": "stream",
     "text": [
      "[15  2 10]\n"
     ]
    }
   ],
   "source": [
    "matrix = np.array([[5,1,2],\n",
    "                   [2,-1,-1],\n",
    "                   [1,1,3]])\n",
    "\n",
    "vector = np.array([2,-1,3])\n",
    "\n",
    "solution = np.matmul(matrix, vector)\n",
    "print(solution)"
   ]
  },
  {
   "cell_type": "markdown",
   "metadata": {},
   "source": [
    "The solution returned is as expected from the illustration previously.\n",
    "\n",
    "**Exercise:** Determine the matrix that describes the vector subspace defined by the following basis set\n",
    "\n",
    "$$ \\begin{pmatrix} 1 \\\\ 2 \\\\ 1 \\\\ 0 \\end{pmatrix},  \\; \\begin{pmatrix} 1 \\\\ 0 \\\\ 0 \\\\ -1 \\end{pmatrix}, \\; \\begin{pmatrix} 2 \\\\ -2 \\\\ 1 \\\\ 0 \\end{pmatrix}, \\;\n",
    "\\begin{pmatrix} 0 \\\\ -1 \\\\ 0 \\\\ 1 \\end{pmatrix}.$$\n",
    "\n",
    "Calculate the product of the matrix that defines the above vector subspace with the vector \n",
    "$$ \\begin{pmatrix} 1 \\\\ -2 \\\\ 0 \\\\ 3 \\end{pmatrix}. $$"
   ]
  },
  {
   "cell_type": "code",
   "execution_count": 5,
   "metadata": {
    "ExecuteTime": {
     "end_time": "2020-06-15T17:23:57.078391Z",
     "start_time": "2020-06-15T17:23:57.075097Z"
    }
   },
   "outputs": [],
   "source": [
    "### Write your code here"
   ]
  },
  {
   "cell_type": "code",
   "execution_count": null,
   "metadata": {},
   "outputs": [],
   "source": []
  }
 ],
 "metadata": {
  "kernelspec": {
   "display_name": "Python 3",
   "language": "python",
   "name": "python3"
  },
  "language_info": {
   "codemirror_mode": {
    "name": "ipython",
    "version": 3
   },
   "file_extension": ".py",
   "mimetype": "text/x-python",
   "name": "python",
   "nbconvert_exporter": "python",
   "pygments_lexer": "ipython3",
   "version": "3.7.3"
  }
 },
 "nbformat": 4,
 "nbformat_minor": 2
}
