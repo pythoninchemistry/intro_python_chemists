{
 "cells": [
  {
   "cell_type": "markdown",
   "metadata": {},
   "source": [
    "**Prerequisites:**\n",
    "- Functions\n",
    "- Collections\n",
    "- NumPy arrays\n",
    "- Scalars and vectors"
   ]
  },
  {
   "cell_type": "markdown",
   "metadata": {},
   "source": [
    "### The Dot product of vectors"
   ]
  },
  {
   "cell_type": "markdown",
   "metadata": {},
   "source": [
    "The dot products, or alternatively the scalar product, is defined between two vectors as \n",
    "\n",
    "$$ \\mathbf{u} \\cdot \\mathbf{v} = \\sum_{i} u_{i} v_{i}, $$\n",
    "\n",
    "here we introduce the common vector notation \n",
    "\n",
    "$$ \\mathbf{u} = [ u_{1} , u_{2}, ... , u_{n} ] .$$\n",
    "\n",
    "Consider the vectors\n",
    "\n",
    "$$ \\mathbf{u} = [1,3, 3, 0], $$\n",
    "$$\\mathbf{v} = [0,2,1,5]. $$\n",
    "\n",
    "The dot product between these two vectors is\n",
    "\n",
    "$$ \\mathbf{u} \\cdot \\mathbf{v} = \\sum_{i} u_{i} v_{i} $$\n",
    "\n",
    "$$= 1 \\cdot 0 + 3 \\cdot 2 + 3 \\cdot 1 + 0 \\cdot 5 = 0 + 6 + 3 + 0 = 9 $$\n",
    "\n",
    "Calculating the dot product is made simple with the NumPy module. If we wished to calculate the above dot product using python, one could define the vectors as previously shown and use np.dot(u,v) to determine the dot product. This is illustrated below"
   ]
  },
  {
   "cell_type": "code",
   "execution_count": 2,
   "metadata": {
    "ExecuteTime": {
     "end_time": "2020-06-15T17:19:24.611588Z",
     "start_time": "2020-06-15T17:19:24.404670Z"
    }
   },
   "outputs": [
    {
     "data": {
      "text/plain": [
       "9"
      ]
     },
     "execution_count": 2,
     "metadata": {},
     "output_type": "execute_result"
    }
   ],
   "source": [
    "import numpy as np\n",
    "\n",
    "u = np.array([1,3,3,0])\n",
    "v = np.array([0,2,1,5])\n",
    "np.dot(u,v)"
   ]
  },
  {
   "cell_type": "markdown",
   "metadata": {},
   "source": [
    "As expected a value of 9 is returned. \n",
    "\n",
    "The magnitude of a vector is defined as the square root of the dot product between the vector and itself. Consider the vectors $\\mathbf{u}$ and $\\mathbf{v}$ above, their magnitudes are given by\n",
    "\n",
    "$$ ||\\mathbf{u}|| = \\sqrt{\\mathbf{u} \\cdot \\mathbf{u}} = $$\n",
    "\n",
    "$$\\sqrt{ 1 \\cdot 1 + 3 \\cdot 3 + 3 \\cdot 3 + 0 \\cdot 0 }= \\sqrt{19},$$\n",
    "\n",
    "\n",
    "$$ ||\\mathbf{v}|| = \\sqrt{\\mathbf{v} \\cdot \\mathbf{v} }= $$\n",
    "\n",
    "$$ \\sqrt{0 \\cdot 0 + 2 \\cdot 2 + 1 \\cdot 1 + 5 \\cdot 5 }= \\sqrt{30}.$$\n",
    "\n",
    "$||\\mathbf{u}||$ represents the magnitude of a vector. The magnitude is also easily calculated using NumPy. To determime the magntiude of the vector $\\mathbf{u}$, we can use"
   ]
  },
  {
   "cell_type": "code",
   "execution_count": 3,
   "metadata": {
    "ExecuteTime": {
     "end_time": "2020-06-15T17:19:47.656232Z",
     "start_time": "2020-06-15T17:19:47.644765Z"
    }
   },
   "outputs": [
    {
     "name": "stdout",
     "output_type": "stream",
     "text": [
      "The magnitude of the vector u is sqrt( 19.00 ).\n"
     ]
    }
   ],
   "source": [
    "np.linalg.norm(u)\n",
    "\n",
    "print(\"The magnitude of the vector u is sqrt(\", \"{:.2f}\".format(np.linalg.norm(u)**2), \").\")"
   ]
  },
  {
   "cell_type": "markdown",
   "metadata": {},
   "source": [
    "The above definition of the dot product is the algebraic definition of the dot product. An alternative, geometric, definition of the dot product is \n",
    "\n",
    "$$ \\mathbf{u} \\cdot \\mathbf{v} = || \\mathbf{u} || \\; ||\\mathbf{v} || \\cos (\\theta) $$\n",
    "\n",
    "where $\\theta$ is the angle between the vectors $\\mathbf{u}$ and $\\mathbf{v}$. In order to determine the angle between two vectors one can rearrange the above equation for theta,\n",
    "\n",
    "$$ \\theta = \\arccos \\left( \\frac{\\mathbf{u} \\cdot \\mathbf{v} }{||\\mathbf{u} || \\; || \\mathbf{v} || } \\right). $$\n",
    "\n",
    "The angle theta is illustrated below for two arbitrary vectors:\n",
    "\n",
    "<img src=\"../images/theta.pdf\" alt=\"drawing\" width=\"200\"/>\n",
    "\n",
    "We can therefore determine the angle between $\\mathbf{u}$ and $\\mathbf{v}$ using the following code:"
   ]
  },
  {
   "cell_type": "code",
   "execution_count": 4,
   "metadata": {
    "ExecuteTime": {
     "end_time": "2020-06-15T17:20:24.292924Z",
     "start_time": "2020-06-15T17:20:24.287555Z"
    }
   },
   "outputs": [
    {
     "name": "stdout",
     "output_type": "stream",
     "text": [
      "The angle between the vectors u and v is 1.1842751591691685 radians.\n"
     ]
    }
   ],
   "source": [
    "mag_u = np.linalg.norm(u)\n",
    "mag_v = np.linalg.norm(v)\n",
    "\n",
    "numerator = np.dot(u,v)\n",
    "denominator = mag_u * mag_v \n",
    "\n",
    "theta = np.arccos(numerator / denominator)\n",
    "\n",
    "print(\"The angle between the vectors u and v is\", theta, \"radians.\")"
   ]
  },
  {
   "cell_type": "markdown",
   "metadata": {
    "ExecuteTime": {
     "end_time": "2020-06-15T17:20:35.132278Z",
     "start_time": "2020-06-15T17:20:35.123886Z"
    }
   },
   "source": [
    "**Exercise:** Using the functions np.dot, np.linalg.norm, and np.arccos, determine the magnitudes and angles between all pairs of vectors for the standard basis vectors introduced earlier\n",
    "\n",
    "$$ \\mathbf{i} = [1, 0, 0], $$\n",
    "$$ \\mathbf{j} = [0, 1, 0], $$\n",
    "$$ \\mathbf{k} = [0, 0, 1]. $$\n",
    "\n",
    "Think about what you would expect the answers to be before using python to calculate the solutions."
   ]
  },
  {
   "cell_type": "code",
   "execution_count": 6,
   "metadata": {
    "ExecuteTime": {
     "end_time": "2020-06-15T17:20:45.962271Z",
     "start_time": "2020-06-15T17:20:45.959171Z"
    }
   },
   "outputs": [],
   "source": [
    "### Write your code here"
   ]
  },
  {
   "cell_type": "code",
   "execution_count": null,
   "metadata": {},
   "outputs": [],
   "source": []
  }
 ],
 "metadata": {
  "kernelspec": {
   "display_name": "Python 3",
   "language": "python",
   "name": "python3"
  },
  "language_info": {
   "codemirror_mode": {
    "name": "ipython",
    "version": 3
   },
   "file_extension": ".py",
   "mimetype": "text/x-python",
   "name": "python",
   "nbconvert_exporter": "python",
   "pygments_lexer": "ipython3",
   "version": "3.7.3"
  }
 },
 "nbformat": 4,
 "nbformat_minor": 2
}
